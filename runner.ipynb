{
 "cells": [
  {
   "cell_type": "code",
   "execution_count": null,
   "metadata": {},
   "outputs": [],
   "source": [
    "import run_problem_sim\n",
    "from run_problem_sim import *"
   ]
  },
  {
   "cell_type": "code",
   "execution_count": null,
   "metadata": {},
   "outputs": [],
   "source": [
    "parrallel = True\n",
    "#Change this depending on the type of sim\n",
    "\n",
    "# This is for chess\n",
    "# organism_creator = make_organism_generator((384,), 1)\n",
    "\n",
    "# This is for cars\n",
    "organism_creator = make_organism_generator((1269,), 1)\n",
    "\n",
    "if parrallel:\n",
    "    scoring_function = scoring_function_parallel\n",
    "else:\n",
    "    scoring_function = lambda organism_1, organism_2 : sim.simulate_and_evaluate_organism(organism_1, organism_2, num_sims=1)\n",
    "ecosystem = Ecosystem(organism_creator, scoring_function, population_size=40, holdout=0.1, mating=False)\n",
    "\n",
    "generations = 10\n",
    "print(\"Running generations\")\n",
    "run_generations(ecosystem, generations, parallel=True)"
   ]
  }
 ],
 "metadata": {
  "language_info": {
   "name": "python"
  }
 },
 "nbformat": 4,
 "nbformat_minor": 2
}
