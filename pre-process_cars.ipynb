{
 "cells": [
  {
   "cell_type": "code",
   "execution_count": 5,
   "metadata": {},
   "outputs": [],
   "source": [
    "import pandas as pd\n",
    "import numpy as np"
   ]
  },
  {
   "cell_type": "code",
   "execution_count": 6,
   "metadata": {},
   "outputs": [],
   "source": [
    "#load the data\n",
    "car_data = pd.read_csv('./data/car_prices.csv')\n",
    "\n",
    "goal = car_data[\"sellingprice\"].astype(float)\n",
    "\n",
    "one_hot = pd.get_dummies(car_data[\"make\"])\n",
    "one_hot.columns = one_hot.columns.str.lower()\n",
    "car_data = car_data.drop(columns=[\"make\"])\n",
    "car_data = car_data.join(one_hot)\n",
    "\n",
    "one_hot = pd.get_dummies(car_data[\"model\"])\n",
    "one_hot.columns = one_hot.columns.str.lower()\n",
    "car_data = car_data.drop(columns=[\"model\"])\n",
    "car_data = car_data.join(one_hot, lsuffix=\"_model\")\n",
    "\n",
    "one_hot = pd.get_dummies(car_data[\"body\"])\n",
    "one_hot.columns = one_hot.columns.str.lower()\n",
    "car_data = car_data.drop(columns=[\"body\"])\n",
    "car_data = car_data.join(one_hot, lsuffix=\"_body\")\n",
    "\n",
    "one_hot = pd.get_dummies(car_data[\"state\"])\n",
    "one_hot.columns = one_hot.columns.str.lower()\n",
    "car_data = car_data.drop(columns=[\"state\"])\n",
    "car_data = car_data.join(one_hot, lsuffix=\"_state\")\n",
    "\n",
    "car_data = car_data.drop(columns=[\"trim\", \"transmission\", \"interior\", \"saledate\", \"year\", \"vin\", \"seller\", \"color\"])"
   ]
  },
  {
   "cell_type": "code",
   "execution_count": 7,
   "metadata": {},
   "outputs": [],
   "source": [
    "split = int(len(car_data) * 0.8)\n",
    "\n",
    "#add the goal to the data\n",
    "car_data[\"goal\"] = goal\n",
    "\n",
    "train_data = car_data[:split]\n",
    "train_goal = goal[:split]\n",
    "test_data = car_data[split:]\n",
    "test_goal = goal[split:]"
   ]
  },
  {
   "cell_type": "code",
   "execution_count": 8,
   "metadata": {},
   "outputs": [],
   "source": [
    "#save the data\n",
    "train_data.to_csv('./data/car_train_data.csv', index=False)\n",
    "test_data.to_csv('./data/car_test_data.csv', index=False)"
   ]
  },
  {
   "cell_type": "code",
   "execution_count": 9,
   "metadata": {},
   "outputs": [
    {
     "data": {
      "text/plain": [
       "(558837, 1225)"
      ]
     },
     "execution_count": 9,
     "metadata": {},
     "output_type": "execute_result"
    }
   ],
   "source": [
    "car_data.shape"
   ]
  },
  {
   "cell_type": "code",
   "execution_count": 10,
   "metadata": {},
   "outputs": [],
   "source": [
    "# from layers import Input, Dense, BatchNorm, SkipConn, Attn, Conv"
   ]
  },
  {
   "cell_type": "code",
   "execution_count": 11,
   "metadata": {},
   "outputs": [],
   "source": [
    "# # Example network\n",
    "# x = Input((1269,)) # input could be a multidim vector (e.g., (5,3) you have have 5 embeddings with dims of 3)\n",
    "# y = BatchNorm(x, 0.1)\n",
    "# y = SkipConn(y, 0.1, 5, x) # skip conn from input\n",
    "# y = Attn(y, 0.1, 3)\n",
    "# y = Dense(y, 0.1, 5)\n",
    "# y = Conv(y, 0.1, 3)\n",
    "# z = BatchNorm(y, 0.1)\n",
    "# y = Dense(z, 0.1, 4)\n",
    "# y = SkipConn(y, 0.1, 1, z)\n",
    "# model = y"
   ]
  },
  {
   "cell_type": "code",
   "execution_count": 12,
   "metadata": {},
   "outputs": [],
   "source": [
    "# #define model input data\n",
    "# X = car_data.head(100).values"
   ]
  },
  {
   "cell_type": "code",
   "execution_count": 13,
   "metadata": {},
   "outputs": [],
   "source": [
    "# car_data.head(10)"
   ]
  },
  {
   "cell_type": "code",
   "execution_count": 14,
   "metadata": {},
   "outputs": [],
   "source": [
    "# model(X)"
   ]
  }
 ],
 "metadata": {
  "kernelspec": {
   "display_name": "Python 3",
   "language": "python",
   "name": "python3"
  },
  "language_info": {
   "codemirror_mode": {
    "name": "ipython",
    "version": 3
   },
   "file_extension": ".py",
   "mimetype": "text/x-python",
   "name": "python",
   "nbconvert_exporter": "python",
   "pygments_lexer": "ipython3",
   "version": "3.12.2"
  }
 },
 "nbformat": 4,
 "nbformat_minor": 2
}
